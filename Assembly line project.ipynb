{
 "cells": [
  {
   "cell_type": "code",
   "execution_count": 1,
   "metadata": {},
   "outputs": [
    {
     "data": {
      "text/html": [
       "<div>\n",
       "<style scoped>\n",
       "    .dataframe tbody tr th:only-of-type {\n",
       "        vertical-align: middle;\n",
       "    }\n",
       "\n",
       "    .dataframe tbody tr th {\n",
       "        vertical-align: top;\n",
       "    }\n",
       "\n",
       "    .dataframe thead th {\n",
       "        text-align: right;\n",
       "    }\n",
       "</style>\n",
       "<table border=\"1\" class=\"dataframe\">\n",
       "  <thead>\n",
       "    <tr style=\"text-align: right;\">\n",
       "      <th></th>\n",
       "      <th>Id</th>\n",
       "      <th>Assembly Line</th>\n",
       "      <th>Quantity (lts.)</th>\n",
       "      <th>CO2 dissolved</th>\n",
       "      <th>Time limit Crossed</th>\n",
       "    </tr>\n",
       "  </thead>\n",
       "  <tbody>\n",
       "    <tr>\n",
       "      <th>0</th>\n",
       "      <td>1263945</td>\n",
       "      <td>B</td>\n",
       "      <td>1.971072</td>\n",
       "      <td>14.401617</td>\n",
       "      <td>0</td>\n",
       "    </tr>\n",
       "    <tr>\n",
       "      <th>1</th>\n",
       "      <td>1828129</td>\n",
       "      <td>B</td>\n",
       "      <td>2.073388</td>\n",
       "      <td>14.137750</td>\n",
       "      <td>0</td>\n",
       "    </tr>\n",
       "    <tr>\n",
       "      <th>2</th>\n",
       "      <td>1871804</td>\n",
       "      <td>A</td>\n",
       "      <td>2.019492</td>\n",
       "      <td>14.774384</td>\n",
       "      <td>0</td>\n",
       "    </tr>\n",
       "    <tr>\n",
       "      <th>3</th>\n",
       "      <td>1128634</td>\n",
       "      <td>A</td>\n",
       "      <td>2.004422</td>\n",
       "      <td>15.130565</td>\n",
       "      <td>0</td>\n",
       "    </tr>\n",
       "    <tr>\n",
       "      <th>4</th>\n",
       "      <td>1848595</td>\n",
       "      <td>B</td>\n",
       "      <td>2.025784</td>\n",
       "      <td>15.756478</td>\n",
       "      <td>0</td>\n",
       "    </tr>\n",
       "  </tbody>\n",
       "</table>\n",
       "</div>"
      ],
      "text/plain": [
       "        Id Assembly Line  Quantity (lts.)  CO2 dissolved  Time limit Crossed\n",
       "0  1263945             B         1.971072      14.401617                   0\n",
       "1  1828129             B         2.073388      14.137750                   0\n",
       "2  1871804             A         2.019492      14.774384                   0\n",
       "3  1128634             A         2.004422      15.130565                   0\n",
       "4  1848595             B         2.025784      15.756478                   0"
      ]
     },
     "execution_count": 1,
     "metadata": {},
     "output_type": "execute_result"
    }
   ],
   "source": [
    "import pandas as pd\n",
    "import matplotlib.pyplot as plt\n",
    "import seaborn as sns \n",
    "\n",
    "data = pd.read_csv(r\"C:\\Users\\anasw\\Downloads\\Quality Assessment - Quality Assesment.csv\")\n",
    "df = pd.DataFrame(data)\n",
    "\n",
    "df.head()"
   ]
  },
  {
   "cell_type": "code",
   "execution_count": 2,
   "metadata": {},
   "outputs": [
    {
     "data": {
      "text/plain": [
       "Id                    0\n",
       "Assembly Line         0\n",
       "Quantity (lts.)       6\n",
       "CO2 dissolved         0\n",
       "Time limit Crossed    0\n",
       "dtype: int64"
      ]
     },
     "execution_count": 2,
     "metadata": {},
     "output_type": "execute_result"
    }
   ],
   "source": [
    "df.isna().sum()"
   ]
  },
  {
   "cell_type": "code",
   "execution_count": 3,
   "metadata": {},
   "outputs": [
    {
     "data": {
      "text/plain": [
       "0"
      ]
     },
     "execution_count": 3,
     "metadata": {},
     "output_type": "execute_result"
    }
   ],
   "source": [
    "df.duplicated().sum()"
   ]
  },
  {
   "cell_type": "code",
   "execution_count": 5,
   "metadata": {},
   "outputs": [
    {
     "data": {
      "text/plain": [
       "1.998"
      ]
     },
     "execution_count": 5,
     "metadata": {},
     "output_type": "execute_result"
    }
   ],
   "source": [
    "round(df[\"Quantity (lts.)\"].median(),3)"
   ]
  },
  {
   "cell_type": "code",
   "execution_count": 61,
   "metadata": {},
   "outputs": [
    {
     "data": {
      "text/plain": [
       "4.32"
      ]
     },
     "execution_count": 61,
     "metadata": {},
     "output_type": "execute_result"
    }
   ],
   "source": [
    "R1 = df[\"CO2 dissolved\"].min()\n",
    "R2 = df[\"CO2 dissolved\"].max()\n",
    "\n",
    "RA = R2-R1\n",
    "round(RA,2)\n",
    "\n"
   ]
  },
  {
   "cell_type": "code",
   "execution_count": 9,
   "metadata": {},
   "outputs": [
    {
     "data": {
      "text/html": [
       "<div>\n",
       "<style scoped>\n",
       "    .dataframe tbody tr th:only-of-type {\n",
       "        vertical-align: middle;\n",
       "    }\n",
       "\n",
       "    .dataframe tbody tr th {\n",
       "        vertical-align: top;\n",
       "    }\n",
       "\n",
       "    .dataframe thead th {\n",
       "        text-align: right;\n",
       "    }\n",
       "</style>\n",
       "<table border=\"1\" class=\"dataframe\">\n",
       "  <thead>\n",
       "    <tr style=\"text-align: right;\">\n",
       "      <th></th>\n",
       "      <th>Id</th>\n",
       "      <th>Quantity (lts.)</th>\n",
       "      <th>CO2 dissolved</th>\n",
       "      <th>Time limit Crossed</th>\n",
       "    </tr>\n",
       "  </thead>\n",
       "  <tbody>\n",
       "    <tr>\n",
       "      <th>count</th>\n",
       "      <td>2.990000e+02</td>\n",
       "      <td>293.000000</td>\n",
       "      <td>299.000000</td>\n",
       "      <td>299.000000</td>\n",
       "    </tr>\n",
       "    <tr>\n",
       "      <th>mean</th>\n",
       "      <td>1.506447e+06</td>\n",
       "      <td>1.997992</td>\n",
       "      <td>15.983235</td>\n",
       "      <td>0.180602</td>\n",
       "    </tr>\n",
       "    <tr>\n",
       "      <th>std</th>\n",
       "      <td>2.913488e+05</td>\n",
       "      <td>0.048517</td>\n",
       "      <td>15.322285</td>\n",
       "      <td>0.385333</td>\n",
       "    </tr>\n",
       "    <tr>\n",
       "      <th>min</th>\n",
       "      <td>1.004988e+06</td>\n",
       "      <td>1.891835</td>\n",
       "      <td>2.253454</td>\n",
       "      <td>0.000000</td>\n",
       "    </tr>\n",
       "    <tr>\n",
       "      <th>25%</th>\n",
       "      <td>1.240662e+06</td>\n",
       "      <td>1.968372</td>\n",
       "      <td>13.109196</td>\n",
       "      <td>0.000000</td>\n",
       "    </tr>\n",
       "    <tr>\n",
       "      <th>50%</th>\n",
       "      <td>1.520300e+06</td>\n",
       "      <td>1.997947</td>\n",
       "      <td>14.064673</td>\n",
       "      <td>0.000000</td>\n",
       "    </tr>\n",
       "    <tr>\n",
       "      <th>75%</th>\n",
       "      <td>1.747329e+06</td>\n",
       "      <td>2.030391</td>\n",
       "      <td>15.139656</td>\n",
       "      <td>0.000000</td>\n",
       "    </tr>\n",
       "    <tr>\n",
       "      <th>max</th>\n",
       "      <td>1.999475e+06</td>\n",
       "      <td>2.109917</td>\n",
       "      <td>150.180978</td>\n",
       "      <td>1.000000</td>\n",
       "    </tr>\n",
       "  </tbody>\n",
       "</table>\n",
       "</div>"
      ],
      "text/plain": [
       "                 Id  Quantity (lts.)  CO2 dissolved  Time limit Crossed\n",
       "count  2.990000e+02       293.000000     299.000000          299.000000\n",
       "mean   1.506447e+06         1.997992      15.983235            0.180602\n",
       "std    2.913488e+05         0.048517      15.322285            0.385333\n",
       "min    1.004988e+06         1.891835       2.253454            0.000000\n",
       "25%    1.240662e+06         1.968372      13.109196            0.000000\n",
       "50%    1.520300e+06         1.997947      14.064673            0.000000\n",
       "75%    1.747329e+06         2.030391      15.139656            0.000000\n",
       "max    1.999475e+06         2.109917     150.180978            1.000000"
      ]
     },
     "execution_count": 9,
     "metadata": {},
     "output_type": "execute_result"
    }
   ],
   "source": [
    "df.describe()"
   ]
  },
  {
   "cell_type": "code",
   "execution_count": 10,
   "metadata": {},
   "outputs": [
    {
     "data": {
      "text/plain": [
       "4"
      ]
     },
     "execution_count": 10,
     "metadata": {},
     "output_type": "execute_result"
    }
   ],
   "source": [
    "df[\"Assembly Line\"].nunique()"
   ]
  },
  {
   "cell_type": "code",
   "execution_count": 11,
   "metadata": {},
   "outputs": [
    {
     "data": {
      "text/plain": [
       "0      0\n",
       "1      0\n",
       "2      0\n",
       "3      0\n",
       "4      0\n",
       "      ..\n",
       "294    0\n",
       "295    1\n",
       "296    0\n",
       "297    1\n",
       "298    1\n",
       "Name: Time limit Crossed, Length: 299, dtype: int64"
      ]
     },
     "execution_count": 11,
     "metadata": {},
     "output_type": "execute_result"
    }
   ],
   "source": [
    "df[\"Time limit Crossed\"]"
   ]
  },
  {
   "cell_type": "code",
   "execution_count": 15,
   "metadata": {},
   "outputs": [
    {
     "data": {
      "text/plain": [
       "0      B\n",
       "1      B\n",
       "2      A\n",
       "3      A\n",
       "4      B\n",
       "      ..\n",
       "294    A\n",
       "295    B\n",
       "296    B\n",
       "297    B\n",
       "298    a\n",
       "Name: Assembly Line, Length: 299, dtype: object"
      ]
     },
     "execution_count": 15,
     "metadata": {},
     "output_type": "execute_result"
    }
   ],
   "source": [
    "df[\"Assembly Line\"]"
   ]
  },
  {
   "cell_type": "code",
   "execution_count": 18,
   "metadata": {},
   "outputs": [
    {
     "data": {
      "text/plain": [
       "2"
      ]
     },
     "execution_count": 18,
     "metadata": {},
     "output_type": "execute_result"
    }
   ],
   "source": [
    "df[\"Assembly Line\"] = df[\"Assembly Line\"].replace(\"b\" , \"B\")\n",
    "df[\"Assembly Line\"] = df[\"Assembly Line\"].replace(\"a\" , \"A\")\n",
    "\n",
    "df[\"Assembly Line\"].nunique()"
   ]
  },
  {
   "cell_type": "code",
   "execution_count": 22,
   "metadata": {},
   "outputs": [
    {
     "data": {
      "text/plain": [
       "0"
      ]
     },
     "execution_count": 22,
     "metadata": {},
     "output_type": "execute_result"
    }
   ],
   "source": [
    "df[\"Quantity (lts.)\"]= df[\"Quantity (lts.)\"].fillna(df[\"Quantity (lts.)\"].mean())\n",
    "\n",
    "df[\"Quantity (lts.)\"].isna().sum()"
   ]
  },
  {
   "cell_type": "code",
   "execution_count": 25,
   "metadata": {},
   "outputs": [
    {
     "data": {
      "text/plain": [
       "54"
      ]
     },
     "execution_count": 25,
     "metadata": {},
     "output_type": "execute_result"
    }
   ],
   "source": [
    "df[\"Time limit Crossed\"].values.sum()"
   ]
  },
  {
   "cell_type": "code",
   "execution_count": 26,
   "metadata": {},
   "outputs": [
    {
     "data": {
      "image/png": "[encoded data removed]",
      "text/plain": [
       "<Figure size 1000x800 with 1 Axes>"
      ]
     },
     "metadata": {},
     "output_type": "display_data"
    }
   ],
   "source": [
    "plt.figure(figsize=(10,8))\n",
    "sns.histplot(x = df[\"Quantity (lts.)\"])\n",
    "plt.title(\"Histogram for Quantity (lts.) distributuion\")\n",
    "plt.plot()\n",
    "plt.show()"
   ]
  },
  {
   "cell_type": "code",
   "execution_count": 27,
   "metadata": {},
   "outputs": [
    {
     "data": {
      "image/png": "[encoded data removed]",
      "text/plain": [
       "<Figure size 1000x800 with 1 Axes>"
      ]
     },
     "metadata": {},
     "output_type": "display_data"
    }
   ],
   "source": [
    "plt.figure(figsize=(10,8))\n",
    "sns.boxplot(y = df[\"Quantity (lts.)\"])\n",
    "plt.title(\"boxplot for Quantity (lts.) distributuion\")\n",
    "plt.plot()\n",
    "plt.show()"
   ]
  },
  {
   "cell_type": "code",
   "execution_count": 40,
   "metadata": {},
   "outputs": [
    {
     "name": "stderr",
     "output_type": "stream",
     "text": [
      "C:\\Users\\anasw\\AppData\\Local\\Temp\\ipykernel_4688\\150254538.py:7: FutureWarning: \n",
      "\n",
      "Setting a gradient palette using color= is deprecated and will be removed in v0.14.0. Set `palette='dark:skyblue'` for the same effect.\n",
      "\n",
      "  sns.barplot(x=df[\"Assembly Line\"], y=df[\"Time limit Crossed\"], color='skyblue', alpha=0.7 , hue=df[\"Assembly Line\"])\n"
     ]
    },
    {
     "data": {
      "image/png": "[encoded data removed]",
      "text/plain": [
       "<Figure size 1200x800 with 1 Axes>"
      ]
     },
     "metadata": {},
     "output_type": "display_data"
    }
   ],
   "source": [
    "\n",
    "plt.figure(figsize=(12, 8))\n",
    "\n",
    "# Lineplot\n",
    "sns.lineplot(x=df[\"Assembly Line\"], y=df[\"Time limit Crossed\"])\n",
    "\n",
    "# Bar plot\n",
    "sns.barplot(x=df[\"Assembly Line\"], y=df[\"Time limit Crossed\"], color='skyblue', alpha=0.7 , hue=df[\"Assembly Line\"])\n",
    "\n",
    "plt.title(\"Histogram for Hrs distribution\")\n",
    "plt.gca().invert_xaxis()  # Invert x-axis\n",
    "plt.show()\n",
    "\n"
   ]
  },
  {
   "cell_type": "code",
   "execution_count": 43,
   "metadata": {},
   "outputs": [
    {
     "data": {
      "text/plain": [
       "0.05"
      ]
     },
     "execution_count": 43,
     "metadata": {},
     "output_type": "execute_result"
    }
   ],
   "source": [
    "correlation = df[\"CO2 dissolved\"].corr(df[\"Quantity (lts.)\"])\n",
    "round(correlation,2)"
   ]
  },
  {
   "cell_type": "code",
   "execution_count": 44,
   "metadata": {},
   "outputs": [
    {
     "data": {
      "image/png": "[encoded data removed]",
      "text/plain": [
       "<Figure size 1000x800 with 2 Axes>"
      ]
     },
     "metadata": {},
     "output_type": "display_data"
    }
   ],
   "source": [
    "plt.figure(figsize=(10,8))\n",
    "sns.heatmap(df.describe())\n",
    "plt.title(\"boxplot for Quantity (lts.) distributuion\")\n",
    "plt.plot()\n",
    "plt.show()"
   ]
  },
  {
   "cell_type": "code",
   "execution_count": 47,
   "metadata": {},
   "outputs": [
    {
     "data": {
      "image/png": "[encoded data removed]",
      "text/plain": [
       "<Figure size 1000x800 with 1 Axes>"
      ]
     },
     "metadata": {},
     "output_type": "display_data"
    }
   ],
   "source": [
    "plt.figure(figsize=(10,8))\n",
    "sns.barplot(x = df[\"Assembly Line\"] , y = df[\"CO2 dissolved\"] , hue=df[\"Assembly Line\"])\n",
    "plt.title(\"Histogram for Quantity (lts.) distributuion\")\n",
    "plt.gca().invert_xaxis()  # Invert x-axis\n",
    "plt.plot()\n",
    "plt.show()"
   ]
  },
  {
   "cell_type": "code",
   "execution_count": 60,
   "metadata": {},
   "outputs": [
    {
     "name": "stdout",
     "output_type": "stream",
     "text": [
      "10.05\n",
      "16.18\n"
     ]
    }
   ],
   "source": [
    "q3 = df[\"CO2 dissolved\"].quantile(0.75)\n",
    "q1 = df[\"CO2 dissolved\"].quantile(0.25)\n",
    "\n",
    "iqr = q3 - q1 \n",
    "lower_cutoff = round(q1 - 1.5 * iqr, 2)\n",
    "upper_cutoff = round(q1 + 1.5 * iqr, 2)\n",
    "\n",
    "outliers = (df[\"CO2 dissolved\"] < lower_cutoff) | (df[\"CO2 dissolved\"] > upper_cutoff)\n",
    "\n",
    "\n",
    "print(lower_cutoff)\n",
    "print(upper_cutoff)"
   ]
  },
  {
   "cell_type": "code",
   "execution_count": 55,
   "metadata": {},
   "outputs": [],
   "source": [
    "mean_CO2_dissolved = df[~df.index.isin(outliers)][\"CO2 dissolved\"].mean()\n",
    "\n",
    "# Replace outliers with the mean\n",
    "df.loc[outliers, \"CO2 dissolved\"] = mean_CO2_dissolved"
   ]
  },
  {
   "cell_type": "code",
   "execution_count": 56,
   "metadata": {},
   "outputs": [
    {
     "data": {
      "text/plain": [
       "14.078011976069615"
      ]
     },
     "execution_count": 56,
     "metadata": {},
     "output_type": "execute_result"
    }
   ],
   "source": [
    "df[\"CO2 dissolved\"].mean()"
   ]
  },
  {
   "cell_type": "code",
   "execution_count": 66,
   "metadata": {},
   "outputs": [
    {
     "name": "stdout",
     "output_type": "stream",
     "text": [
      "10.05\n",
      "16.1839147525\n"
     ]
    }
   ],
   "source": [
    "q3 = df[\"CO2 dissolved\"].quantile(0.75)\n",
    "q1 = df[\"CO2 dissolved\"].quantile(0.25)\n",
    "\n",
    "iqr = q3 - q1 \n",
    "lower_cutoff = round(q1 - 1.5 * iqr, 2)\n",
    "upper_cutoff = q1 + 1.5 * iqr\n",
    "\n",
    "print(lower_cutoff)\n",
    "print(upper_cutoff)"
   ]
  },
  {
   "cell_type": "code",
   "execution_count": 62,
   "metadata": {},
   "outputs": [
    {
     "data": {
      "image/png": "[encoded data removed]",
      "text/plain": [
       "<Figure size 1000x800 with 1 Axes>"
      ]
     },
     "metadata": {},
     "output_type": "display_data"
    }
   ],
   "source": [
    "plt.figure(figsize=(10,8))\n",
    "sns.barplot(x = df[\"Assembly Line\"] , y = df[\"CO2 dissolved\"] , hue=df[\"Assembly Line\"])\n",
    "plt.title(\"Histogram for Quantity (lts.) distributuion\")\n",
    "plt.gca().invert_xaxis()  # Invert x-axis\n",
    "plt.plot()\n",
    "plt.show()"
   ]
  },
  {
   "cell_type": "code",
   "execution_count": 103,
   "metadata": {},
   "outputs": [
    {
     "name": "stdout",
     "output_type": "stream",
     "text": [
      "Probability of Time limit crossed for Assembly Line A: 2.1510791366906474\n",
      "Probability of Time limit crossed for Assembly Line B: 1.86875\n"
     ]
    }
   ],
   "source": [
    "# Calculate the total count of \"Time limit crossed\"\n",
    "total_time_limit_crossed = df[\"Time limit Crossed\"].value_counts().sum()\n",
    "\n",
    "# Calculate the probability of \"Time limit crossed\" for Assembly Line A\n",
    "p1 = total_time_limit_crossed/df[df[\"Assembly Line\"] == \"A\"][\"Time limit Crossed\"].value_counts().sum()\n",
    "print(\"Probability of Time limit crossed for Assembly Line A:\", p1)\n",
    "\n",
    "# Calculate the probability of \"Time limit crossed\" for Assembly Line B\n",
    "p2 = total_time_limit_crossed/df[df[\"Assembly Line\"] == \"B\"][\"Time limit Crossed\"].value_counts().sum() \n",
    "print(\"Probability of Time limit crossed for Assembly Line B:\", p2)\n",
    "\n"
   ]
  },
  {
   "cell_type": "code",
   "execution_count": 96,
   "metadata": {},
   "outputs": [
    {
     "data": {
      "text/plain": [
       "0      0\n",
       "1      0\n",
       "2      0\n",
       "3      0\n",
       "4      0\n",
       "      ..\n",
       "294    0\n",
       "295    1\n",
       "296    0\n",
       "297    1\n",
       "298    1\n",
       "Name: Time limit Crossed, Length: 299, dtype: int64"
      ]
     },
     "execution_count": 96,
     "metadata": {},
     "output_type": "execute_result"
    }
   ],
   "source": [
    "df[\"Time limit Crossed\"]"
   ]
  },
  {
   "cell_type": "code",
   "execution_count": 107,
   "metadata": {},
   "outputs": [
    {
     "data": {
      "text/plain": [
       "0.14"
      ]
     },
     "execution_count": 107,
     "metadata": {},
     "output_type": "execute_result"
    }
   ],
   "source": [
    "from scipy.stats import binom\n",
    "\n",
    "# p of outstanding \n",
    "pab = 0.21\n",
    "n = 50\n",
    "k = 10\n",
    "\n",
    "check = binom(n,pab)\n",
    "round(check.pmf(k),2)"
   ]
  },
  {
   "cell_type": "code",
   "execution_count": 109,
   "metadata": {},
   "outputs": [
    {
     "data": {
      "text/plain": [
       "0.07"
      ]
     },
     "execution_count": 109,
     "metadata": {},
     "output_type": "execute_result"
    }
   ],
   "source": [
    "# p of outstanding \n",
    "paa = 0.14\n",
    "n = 50\n",
    "k = 10\n",
    "\n",
    "check = binom(n,paa)\n",
    "round(check.pmf(k),2)"
   ]
  },
  {
   "cell_type": "code",
   "execution_count": 113,
   "metadata": {},
   "outputs": [
    {
     "data": {
      "text/plain": [
       "0.49"
      ]
     },
     "execution_count": 113,
     "metadata": {},
     "output_type": "execute_result"
    }
   ],
   "source": [
    "pab = 0.21\n",
    "n = 50\n",
    "k = 10\n",
    "\n",
    "check = binom(n,pab)\n",
    "r = 1 - check.cdf(k)\n",
    "round(r,2)"
   ]
  },
  {
   "cell_type": "code",
   "execution_count": 114,
   "metadata": {},
   "outputs": [
    {
     "data": {
      "text/plain": [
       "0.08"
      ]
     },
     "execution_count": 114,
     "metadata": {},
     "output_type": "execute_result"
    }
   ],
   "source": [
    "paa = 0.14\n",
    "n = 50\n",
    "k = 10\n",
    "\n",
    "check = binom(n,paa)\n",
    "r_2 = 1 - check.cdf(k)\n",
    "round(r_2,2)"
   ]
  },
  {
   "cell_type": "code",
   "execution_count": 121,
   "metadata": {},
   "outputs": [
    {
     "data": {
      "text/plain": [
       "0.7"
      ]
     },
     "execution_count": 121,
     "metadata": {},
     "output_type": "execute_result"
    }
   ],
   "source": [
    "from scipy.stats import norm\n",
    "\n",
    "mean = df[\"Quantity (lts.)\"].mean()\n",
    "std = df[\"Quantity (lts.)\"].std()\n",
    "\n",
    "threshold = 1.95\n",
    "uppr_threshold = 2.05\n",
    "\n",
    "# Calculate the probability that quantity is below the threshold\n",
    "prob_threshold = norm.cdf(uppr_threshold, loc=mean, scale=std) - norm.cdf(threshold , loc=mean , scale = std)\n",
    "\n",
    "# Probability of penalization or spillage is the complement of the probability below the threshold\n",
    "prob_threshold\n",
    "\n",
    "round(prob_threshold,2)\n",
    "\n"
   ]
  },
  {
   "cell_type": "code",
   "execution_count": 127,
   "metadata": {},
   "outputs": [
    {
     "name": "stdout",
     "output_type": "stream",
     "text": [
      "Combined probability of penalization or excess spillage: 0.04\n"
     ]
    }
   ],
   "source": [
    "from scipy.stats import norm\n",
    "\n",
    "# Given values\n",
    "mean = 2.0  # Mean net content\n",
    "std_dev = 0.05  # Standard deviation of net content\n",
    "\n",
    "# Thresholds for penalization and excess spillage\n",
    "penalization_threshold = 1.90  # Below this threshold, penalization may occur\n",
    "spillage_threshold = 2.10  # Above this threshold, excess spillage may occur\n",
    "\n",
    "# Calculate the probability of net content below penalization threshold\n",
    "prob_penalization = norm.cdf(penalization_threshold, loc=mean, scale=std_dev)\n",
    "\n",
    "# Calculate the probability of net content above spillage threshold\n",
    "prob_spillage = 1 - norm.cdf(spillage_threshold, loc=mean, scale=std_dev)\n",
    "\n",
    "# Calculate the combined probability (accounting for overlap)\n",
    "prob_combined = prob_penalization + prob_spillage - (prob_penalization * prob_spillage)\n",
    "\n",
    "# Round the combined probability to two decimal places\n",
    "prob_combined_rounded = round(prob_combined, 2)\n",
    "\n",
    "print(\"Combined probability of penalization or excess spillage:\", prob_combined_rounded)\n"
   ]
  },
  {
   "cell_type": "code",
   "execution_count": 130,
   "metadata": {},
   "outputs": [
    {
     "name": "stdout",
     "output_type": "stream",
     "text": [
      "90% Confidence Interval for Quantity variable:\n",
      "Lower Bound: 1.9934236606604332\n",
      "Upper Bound: 2.0025606405750613\n"
     ]
    }
   ],
   "source": [
    "import numpy as np\n",
    "from scipy.stats import norm\n",
    "\n",
    "# Sample data (mean and standard deviation)\n",
    "sample_mean = df[\"Quantity (lts.)\"].mean()\n",
    "sample_std = df[\"Quantity (lts.)\"].std()\n",
    "\n",
    "# Number of observations\n",
    "n = len(df[\"Quantity (lts.)\"])\n",
    "\n",
    "# Confidence level (1 - alpha)\n",
    "confidence_level = 0.90\n",
    "\n",
    "# Calculate the critical value (z-score) for the given confidence level\n",
    "z = norm.ppf(1 - (1 - confidence_level) / 2)\n",
    "\n",
    "# Calculate the margin of error\n",
    "margin_of_error = z * (sample_std / np.sqrt(n))\n",
    "\n",
    "# Calculate the confidence interval\n",
    "lower_bound = sample_mean - margin_of_error\n",
    "upper_bound = sample_mean + margin_of_error\n",
    "\n",
    "print(\"90% Confidence Interval for Quantity variable:\")\n",
    "print(\"Lower Bound:\", lower_bound)\n",
    "print(\"Upper Bound:\", upper_bound)\n"
   ]
  },
  {
   "cell_type": "code",
   "execution_count": null,
   "metadata": {},
   "outputs": [],
   "source": []
  }
 ],
 "metadata": {
  "kernelspec": {
   "display_name": "Python 3",
   "language": "python",
   "name": "python3"
  },
  "language_info": {
   "codemirror_mode": {
    "name": "ipython",
    "version": 3
   },
   "file_extension": ".py",
   "mimetype": "text/x-python",
   "name": "python",
   "nbconvert_exporter": "python",
   "pygments_lexer": "ipython3",
   "version": "3.11.8"
  }
 },
 "nbformat": 4,
 "nbformat_minor": 2
}
